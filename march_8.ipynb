{
 "cells": [
  {
   "cell_type": "code",
   "execution_count": null,
   "id": "4c5fb3dd",
   "metadata": {},
   "outputs": [],
   "source": [
    "import tensorflow as tf\n",
    "from tensorflow import keras\n",
    "from tensorflow.keras import layers\n",
    "from tensorflow.keras.models import Model\n",
    "from tensorflow.keras.layers import Input, Dense\n",
    "from sklearn.model_selection import train_test_split\n",
    "from sklearn.preprocessing import LabelEncoder, MinMaxScaler\n",
    "\n",
    "import matplotlib.pyplot as plt\n",
    "\n",
    "from sklearn import linear_model\n",
    "\n",
    "\n",
    "\n",
    "import pandas as pd\n",
    "import numpy as np"
   ]
  },
  {
   "cell_type": "code",
   "execution_count": 1,
   "id": "eac779f2",
   "metadata": {},
   "outputs": [
    {
     "ename": "NameError",
     "evalue": "name 'pd' is not defined",
     "output_type": "error",
     "traceback": [
      "\u001b[0;31m---------------------------------------------------------------------------\u001b[0m",
      "\u001b[0;31mNameError\u001b[0m                                 Traceback (most recent call last)",
      "\u001b[0;32m<ipython-input-1-87355e7dedfd>\u001b[0m in \u001b[0;36m<module>\u001b[0;34m\u001b[0m\n\u001b[0;32m----> 1\u001b[0;31m \u001b[0maq\u001b[0m \u001b[0;34m=\u001b[0m \u001b[0mpd\u001b[0m\u001b[0;34m.\u001b[0m\u001b[0mread_excel\u001b[0m\u001b[0;34m(\u001b[0m\u001b[0;34m'/Users/danielschneider/Desktop/AirQualityUCI.xlsx'\u001b[0m\u001b[0;34m)\u001b[0m\u001b[0;34m\u001b[0m\u001b[0;34m\u001b[0m\u001b[0m\n\u001b[0m\u001b[1;32m      2\u001b[0m \u001b[0maq\u001b[0m \u001b[0;34m=\u001b[0m \u001b[0maq\u001b[0m\u001b[0;34m[\u001b[0m\u001b[0;34m[\u001b[0m\u001b[0;34m'CO(GT)'\u001b[0m\u001b[0;34m,\u001b[0m \u001b[0;34m'T'\u001b[0m\u001b[0;34m,\u001b[0m \u001b[0;34m'RH'\u001b[0m\u001b[0;34m,\u001b[0m \u001b[0;34m'AH'\u001b[0m\u001b[0;34m]\u001b[0m\u001b[0;34m]\u001b[0m\u001b[0;34m\u001b[0m\u001b[0;34m\u001b[0m\u001b[0m\n",
      "\u001b[0;31mNameError\u001b[0m: name 'pd' is not defined"
     ]
    }
   ],
   "source": [
    "aq = pd.read_excel('/Users/danielschneider/Desktop/AirQualityUCI.xlsx')\n",
    "aq = aq[['CO(GT)', 'T', 'RH', 'AH']]"
   ]
  },
  {
   "cell_type": "code",
   "execution_count": null,
   "id": "6a056d9b",
   "metadata": {},
   "outputs": [],
   "source": [
    "aq_clean = aq[~aq.eq(-200).any(1)]\n",
    "X = aq_clean.loc[:, ['T', 'RH', 'AH']]"
   ]
  },
  {
   "cell_type": "code",
   "execution_count": null,
   "id": "e7d5d3d5",
   "metadata": {},
   "outputs": [],
   "source": [
    "train, test = train_test_split(aq_clean, test_size = 0.33)\n",
    "\n",
    "\n",
    "X_train = train.loc[:, ['T', 'RH', 'AH']]\n",
    "\n",
    "\n",
    "Y_train = train.iloc[:,0]\n",
    "Y_train = np.asarray(Y_train)\n",
    "Y_train = Y_train.reshape(-1,1)\n",
    "\n",
    "X_test = test.loc[:, ['T', 'RH', 'AH']]\n",
    "\n",
    "Y_test = test.iloc[:,0]\n",
    "Y_test = np.asarray(Y_test)\n",
    "Y_test = Y_test.reshape(-1,1)\n",
    "\n",
    "Y_scale = MinMaxScaler()\n",
    "Y_train = Y_scale.fit_transform(Y_train)\n",
    "Y_test = Y_scale.fit_transform(Y_test)\n",
    "\n",
    "X_scale = MinMaxScaler()\n",
    "X_train = X_scale.fit_transform(X_train)\n",
    "X_test = X_scale.fit_transform(X_test)\n"
   ]
  },
  {
   "cell_type": "code",
   "execution_count": null,
   "id": "a11818bd",
   "metadata": {},
   "outputs": [],
   "source": [
    "co = linear_model.LinearRegression()\n",
    "model = co.fit(X_train, Y_train)\n",
    "pred = model.predict(X_test)\n",
    "vals = pred.sum()\n",
    "actual = Y_test.sum()\n",
    "vals / actual\n",
    "\n"
   ]
  },
  {
   "cell_type": "code",
   "execution_count": null,
   "id": "7dc15102",
   "metadata": {},
   "outputs": [],
   "source": [
    "data = pd.read_csv('/Users/danielschneider/Downloads/merged_years.csv')"
   ]
  },
  {
   "cell_type": "code",
   "execution_count": null,
   "id": "9f36cbf6",
   "metadata": {},
   "outputs": [],
   "source": [
    "data.drop('Unnamed: 0', axis=1, inplace=True)"
   ]
  },
  {
   "cell_type": "code",
   "execution_count": null,
   "id": "c2a1a791",
   "metadata": {},
   "outputs": [],
   "source": [
    "pops = pd.read_csv('/Users/danielschneider/Desktop/m1-2021/m1-2021/population.txt', sep=\"\\t\", header=None)\n",
    "pops"
   ]
  },
  {
   "cell_type": "code",
   "execution_count": null,
   "id": "244f49a2",
   "metadata": {},
   "outputs": [],
   "source": [
    "for cty in data.CZ_NAME.unique():\n",
    "    print(cty)"
   ]
  },
  {
   "cell_type": "code",
   "execution_count": null,
   "id": "926062a6",
   "metadata": {},
   "outputs": [],
   "source": [
    "pops['county'] = pops.loc[:,1].str.split(' ').str[0]"
   ]
  },
  {
   "cell_type": "code",
   "execution_count": null,
   "id": "28ef0bc5",
   "metadata": {},
   "outputs": [],
   "source": [
    "pops['county'] = pops['county'].str.upper()\n",
    "mi_counties = list(pops['county'].unique())"
   ]
  },
  {
   "cell_type": "code",
   "execution_count": null,
   "id": "5e0b4865",
   "metadata": {
    "scrolled": true
   },
   "outputs": [],
   "source": [
    "data = data[data.CZ_NAME.isin(mi_counties)]\n",
    "data.rename(columns={'CZ_NAME':'county'}, inplace=True)\n",
    "data"
   ]
  },
  {
   "cell_type": "code",
   "execution_count": null,
   "id": "60722291",
   "metadata": {},
   "outputs": [],
   "source": [
    "pops\n"
   ]
  },
  {
   "cell_type": "code",
   "execution_count": null,
   "id": "0d143baa",
   "metadata": {},
   "outputs": [],
   "source": [
    "data = data.merge(pops, how='left', on='county')"
   ]
  },
  {
   "cell_type": "code",
   "execution_count": null,
   "id": "4257ae89",
   "metadata": {},
   "outputs": [],
   "source": [
    "data.drop([['0','1','2','3']], axis=1, inplace=True)"
   ]
  },
  {
   "cell_type": "code",
   "execution_count": null,
   "id": "0f307ebf",
   "metadata": {},
   "outputs": [],
   "source": []
  }
 ],
 "metadata": {
  "@webio": {
   "lastCommId": null,
   "lastKernelId": null
  },
  "kernelspec": {
   "display_name": "Python 3",
   "language": "python",
   "name": "python3"
  },
  "language_info": {
   "codemirror_mode": {
    "name": "ipython",
    "version": 3
   },
   "file_extension": ".py",
   "mimetype": "text/x-python",
   "name": "python",
   "nbconvert_exporter": "python",
   "pygments_lexer": "ipython3",
   "version": "3.8.5"
  }
 },
 "nbformat": 4,
 "nbformat_minor": 5
}
