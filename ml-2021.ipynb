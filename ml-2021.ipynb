{
 "cells": [
  {
   "cell_type": "markdown",
   "id": "f579b731",
   "metadata": {},
   "source": [
    "# Heading 1"
   ]
  },
  {
   "cell_type": "code",
   "execution_count": 2,
   "id": "0ec2619d",
   "metadata": {
    "scrolled": true
   },
   "outputs": [],
   "source": [
    "import pandas as pd\n",
    "import numpy as np\n"
   ]
  },
  {
   "cell_type": "code",
   "execution_count": 37,
   "id": "952865a2",
   "metadata": {},
   "outputs": [
    {
     "name": "stderr",
     "output_type": "stream",
     "text": [
      "<ipython-input-37-8979f7e1b684>:6: SettingWithCopyWarning: \n",
      "A value is trying to be set on a copy of a slice from a DataFrame.\n",
      "Try using .loc[row_indexer,col_indexer] = value instead\n",
      "\n",
      "See the caveats in the documentation: https://pandas.pydata.org/pandas-docs/stable/user_guide/indexing.html#returning-a-view-versus-a-copy\n",
      "  mi['BEGIN_YEARMONTH'] = mi['BEGIN_YEARMONTH'].apply(str)\n",
      "<ipython-input-37-8979f7e1b684>:7: SettingWithCopyWarning: \n",
      "A value is trying to be set on a copy of a slice from a DataFrame.\n",
      "Try using .loc[row_indexer,col_indexer] = value instead\n",
      "\n",
      "See the caveats in the documentation: https://pandas.pydata.org/pandas-docs/stable/user_guide/indexing.html#returning-a-view-versus-a-copy\n",
      "  mi['Year'] = mi['BEGIN_YEARMONTH'].str[:4]\n",
      "<ipython-input-37-8979f7e1b684>:8: SettingWithCopyWarning: \n",
      "A value is trying to be set on a copy of a slice from a DataFrame.\n",
      "Try using .loc[row_indexer,col_indexer] = value instead\n",
      "\n",
      "See the caveats in the documentation: https://pandas.pydata.org/pandas-docs/stable/user_guide/indexing.html#returning-a-view-versus-a-copy\n",
      "  mi['Month'] = mi['BEGIN_YEARMONTH'].str[5:]\n"
     ]
    },
    {
     "data": {
      "text/plain": [
       "Index(['BEGIN_YEARMONTH', 'Day', 'BEGIN_TIME', 'END_YEARMONTH', 'END_DAY',\n",
       "       'END_TIME', 'EVENT_ID', 'STATE', 'YEAR', 'EVENT_TYPE', 'CZ_TYPE',\n",
       "       'CZ_FIPS', 'BEGIN_DATE_TIME', 'CZ_TIMEZONE', 'END_DATE_TIME',\n",
       "       'INJURIES_DIRECT', 'INJURIES_INDIRECT', 'DEATHS_DIRECT',\n",
       "       'DEATHS_INDIRECT', 'DAMAGE_PROPERTY', 'DAMAGE_CROPS', 'MAGNITUDE',\n",
       "       'TOR_LENGTH', 'TOR_WIDTH', 'BEGIN_RANGE', 'END_RANGE', 'BEGIN_LAT',\n",
       "       'BEGIN_LON', 'Year', 'Month'],\n",
       "      dtype='object')"
      ]
     },
     "execution_count": 37,
     "metadata": {},
     "output_type": "execute_result"
    }
   ],
   "source": [
    "df = pd.read_csv(r'/Users/danielschneider/Downloads/1990.csv')\n",
    "df\n",
    "df.dropna(axis=1,inplace=True)\n",
    "mi = df[df['STATE'] == 'MICHIGAN']\n",
    "mi\n",
    "mi['BEGIN_YEARMONTH'] = mi['BEGIN_YEARMONTH'].apply(str)\n",
    "mi['Year'] = mi['BEGIN_YEARMONTH'].str[:4]\n",
    "mi['Month'] = mi['BEGIN_YEARMONTH'].str[5:]\n",
    "mi = mi.rename(columns={'BEGIN_DAY':'Day'})\n",
    "mi.drop(columns=['STATE_FIPS','DATA_SOURCE','MONTH_NAME'],inplace=True)\n",
    "mi.columns"
   ]
  }
 ],
 "metadata": {
  "kernelspec": {
   "display_name": "Python 3.8.5 64-bit ('base': conda)",
   "language": "python",
   "name": "python385jvsc74a57bd00e5009631727e636ca123f98c8b1b3e6e94a7e42250ec05870000f823ac47be6"
  },
  "language_info": {
   "codemirror_mode": {
    "name": "ipython",
    "version": 3
   },
   "file_extension": ".py",
   "mimetype": "text/x-python",
   "name": "python",
   "nbconvert_exporter": "python",
   "pygments_lexer": "ipython3",
   "version": "3.8.5"
  }
 },
 "nbformat": 4,
 "nbformat_minor": 5
}
